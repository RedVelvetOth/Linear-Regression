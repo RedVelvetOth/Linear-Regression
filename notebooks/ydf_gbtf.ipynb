{
 "cells": [
  {
   "cell_type": "code",
   "execution_count": 1,
   "metadata": {},
   "outputs": [],
   "source": [
    "import pandas as pd \n",
    "\n",
    "df_train = pd.read_csv('../data/train_data_stg.csv', delimiter='|')\n",
    "df_test = pd.read_csv('../data/test_data_stg.csv', delimiter='|')"
   ]
  },
  {
   "cell_type": "code",
   "execution_count": 2,
   "metadata": {},
   "outputs": [],
   "source": [
    "df_train = df_train.drop(['rank'], axis=1)\n",
    "df_test = df_test.drop(['rank'], axis=1)"
   ]
  },
  {
   "cell_type": "code",
   "execution_count": 3,
   "metadata": {},
   "outputs": [],
   "source": [
    "import numpy as np\n",
    "\n",
    "df_train['t'] = np.log(df_train['t'])\n",
    "df_train['p'] = np.log(df_train['p'])\n",
    "\n",
    "df_test['t'] = np.log(df_test['t'])\n",
    "df_test['p'] = np.log(df_test['p'])"
   ]
  },
  {
   "cell_type": "code",
   "execution_count": 4,
   "metadata": {},
   "outputs": [
    {
     "name": "stdout",
     "output_type": "stream",
     "text": [
      "Train model on 277194 examples\n"
     ]
    },
    {
     "name": "stdout",
     "output_type": "stream",
     "text": [
      "Model trained in 0:00:12.697691\n"
     ]
    }
   ],
   "source": [
    "import ydf\n",
    "\n",
    "gbtf = ydf.GradientBoostedTreesLearner(label='p', task=ydf.Task.REGRESSION, num_trees=1000).train(df_train)\n",
    "\n",
    "prediction = gbtf.predict(df_test)"
   ]
  },
  {
   "cell_type": "code",
   "execution_count": 5,
   "metadata": {},
   "outputs": [
    {
     "name": "stdout",
     "output_type": "stream",
     "text": [
      "Mean Absolute Error (MAE): 1.18\n",
      "Root Mean Squarred Error (RMSE): 1.53\n",
      "R2 Score 0.42\n"
     ]
    }
   ],
   "source": [
    "from sklearn.metrics import r2_score, mean_absolute_error, root_mean_squared_error\n",
    "\n",
    "print(\"Mean Absolute Error (MAE): %.2f\" % mean_absolute_error(df_test[['p']], prediction))\n",
    "print(\"Root Mean Squarred Error (RMSE): %.2f\" % root_mean_squared_error(df_test[['p']], prediction))\n",
    "print(\"R2 Score %.2f\" % r2_score(df_test[['p']], prediction))"
   ]
  },
  {
   "cell_type": "code",
   "execution_count": 6,
   "metadata": {},
   "outputs": [],
   "source": [
    "df_test = np.exp(df_test)\n",
    "predcition = np.exp(prediction)"
   ]
  }
 ],
 "metadata": {
  "kernelspec": {
   "display_name": "Python 3",
   "language": "python",
   "name": "python3"
  },
  "language_info": {
   "codemirror_mode": {
    "name": "ipython",
    "version": 3
   },
   "file_extension": ".py",
   "mimetype": "text/x-python",
   "name": "python",
   "nbconvert_exporter": "python",
   "pygments_lexer": "ipython3",
   "version": "3.10.13"
  }
 },
 "nbformat": 4,
 "nbformat_minor": 2
}
