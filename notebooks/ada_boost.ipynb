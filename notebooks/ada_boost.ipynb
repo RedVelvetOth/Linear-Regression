{
 "cells": [
  {
   "cell_type": "code",
   "execution_count": 1,
   "metadata": {},
   "outputs": [],
   "source": [
    "import pandas as pd \n",
    "\n",
    "df_train = pd.read_csv('../data/train_data_stg.csv', delimiter='|')\n",
    "df_test = pd.read_csv('../data/test_data_stg.csv', delimiter='|')"
   ]
  },
  {
   "cell_type": "code",
   "execution_count": 2,
   "metadata": {},
   "outputs": [
    {
     "data": {
      "text/html": [
       "<div>\n",
       "<style scoped>\n",
       "    .dataframe tbody tr th:only-of-type {\n",
       "        vertical-align: middle;\n",
       "    }\n",
       "\n",
       "    .dataframe tbody tr th {\n",
       "        vertical-align: top;\n",
       "    }\n",
       "\n",
       "    .dataframe thead th {\n",
       "        text-align: right;\n",
       "    }\n",
       "</style>\n",
       "<table border=\"1\" class=\"dataframe\">\n",
       "  <thead>\n",
       "    <tr style=\"text-align: right;\">\n",
       "      <th></th>\n",
       "      <th>rank</th>\n",
       "      <th>t</th>\n",
       "      <th>p</th>\n",
       "    </tr>\n",
       "  </thead>\n",
       "  <tbody>\n",
       "    <tr>\n",
       "      <th>0</th>\n",
       "      <td>1</td>\n",
       "      <td>11662839.55</td>\n",
       "      <td>7622.0</td>\n",
       "    </tr>\n",
       "    <tr>\n",
       "      <th>1</th>\n",
       "      <td>2</td>\n",
       "      <td>1931166.67</td>\n",
       "      <td>1164.0</td>\n",
       "    </tr>\n",
       "    <tr>\n",
       "      <th>2</th>\n",
       "      <td>3</td>\n",
       "      <td>78411667.44</td>\n",
       "      <td>432896.0</td>\n",
       "    </tr>\n",
       "    <tr>\n",
       "      <th>3</th>\n",
       "      <td>4</td>\n",
       "      <td>2274540.32</td>\n",
       "      <td>10046.0</td>\n",
       "    </tr>\n",
       "    <tr>\n",
       "      <th>4</th>\n",
       "      <td>5</td>\n",
       "      <td>2113766.13</td>\n",
       "      <td>1962.0</td>\n",
       "    </tr>\n",
       "  </tbody>\n",
       "</table>\n",
       "</div>"
      ],
      "text/plain": [
       "   rank            t         p\n",
       "0     1  11662839.55    7622.0\n",
       "1     2   1931166.67    1164.0\n",
       "2     3  78411667.44  432896.0\n",
       "3     4   2274540.32   10046.0\n",
       "4     5   2113766.13    1962.0"
      ]
     },
     "execution_count": 2,
     "metadata": {},
     "output_type": "execute_result"
    }
   ],
   "source": [
    "df_train.head()"
   ]
  },
  {
   "cell_type": "code",
   "execution_count": 3,
   "metadata": {},
   "outputs": [
    {
     "data": {
      "text/html": [
       "<div>\n",
       "<style scoped>\n",
       "    .dataframe tbody tr th:only-of-type {\n",
       "        vertical-align: middle;\n",
       "    }\n",
       "\n",
       "    .dataframe tbody tr th {\n",
       "        vertical-align: top;\n",
       "    }\n",
       "\n",
       "    .dataframe thead th {\n",
       "        text-align: right;\n",
       "    }\n",
       "</style>\n",
       "<table border=\"1\" class=\"dataframe\">\n",
       "  <thead>\n",
       "    <tr style=\"text-align: right;\">\n",
       "      <th></th>\n",
       "      <th>rank</th>\n",
       "      <th>t</th>\n",
       "      <th>p</th>\n",
       "    </tr>\n",
       "  </thead>\n",
       "  <tbody>\n",
       "    <tr>\n",
       "      <th>0</th>\n",
       "      <td>25</td>\n",
       "      <td>32625522.00</td>\n",
       "      <td>25408.0</td>\n",
       "    </tr>\n",
       "    <tr>\n",
       "      <th>1</th>\n",
       "      <td>30</td>\n",
       "      <td>9678145.70</td>\n",
       "      <td>68264.0</td>\n",
       "    </tr>\n",
       "    <tr>\n",
       "      <th>2</th>\n",
       "      <td>53</td>\n",
       "      <td>3453252.19</td>\n",
       "      <td>3437.0</td>\n",
       "    </tr>\n",
       "    <tr>\n",
       "      <th>3</th>\n",
       "      <td>65</td>\n",
       "      <td>2727246.97</td>\n",
       "      <td>12729.0</td>\n",
       "    </tr>\n",
       "    <tr>\n",
       "      <th>4</th>\n",
       "      <td>66</td>\n",
       "      <td>1161085.64</td>\n",
       "      <td>2417.0</td>\n",
       "    </tr>\n",
       "  </tbody>\n",
       "</table>\n",
       "</div>"
      ],
      "text/plain": [
       "   rank            t        p\n",
       "0    25  32625522.00  25408.0\n",
       "1    30   9678145.70  68264.0\n",
       "2    53   3453252.19   3437.0\n",
       "3    65   2727246.97  12729.0\n",
       "4    66   1161085.64   2417.0"
      ]
     },
     "execution_count": 3,
     "metadata": {},
     "output_type": "execute_result"
    }
   ],
   "source": [
    "df_test.head()"
   ]
  },
  {
   "cell_type": "code",
   "execution_count": 4,
   "metadata": {},
   "outputs": [],
   "source": [
    "df_train = df_train.drop(['rank'], axis=1)\n",
    "df_test = df_test.drop(['rank'], axis=1)"
   ]
  },
  {
   "cell_type": "code",
   "execution_count": 5,
   "metadata": {},
   "outputs": [],
   "source": [
    "import numpy as np\n",
    "df_train['t'] = np.log(df_train['t'])\n",
    "df_train['p'] = np.log(df_train['p'])\n",
    "\n",
    "df_test['t'] = np.log(df_test['t'])\n",
    "df_test['p'] = np.log(df_test['p'])"
   ]
  },
  {
   "cell_type": "code",
   "execution_count": 6,
   "metadata": {},
   "outputs": [],
   "source": [
    "from sklearn.ensemble import AdaBoostRegressor\n",
    "from sklearn.tree import DecisionTreeRegressor\n",
    "\n",
    "ada_reg = AdaBoostRegressor(\n",
    "    DecisionTreeRegressor(max_depth=3), n_estimators=500,\n",
    "    learning_rate=0.01, random_state=42\n",
    ")\n",
    "ada_reg.fit(df_train[['t']], df_train['p'])\n",
    "\n",
    "prediction = ada_reg.predict(df_test[['t']])"
   ]
  },
  {
   "cell_type": "code",
   "execution_count": 7,
   "metadata": {},
   "outputs": [
    {
     "name": "stdout",
     "output_type": "stream",
     "text": [
      "Result on the logged data\n",
      "Mean Absolute Error (MAE): 1.21\n",
      "Root Mean Squarred Error (RMSE): 1.56\n",
      "R2 Score 0.39\n"
     ]
    }
   ],
   "source": [
    "from sklearn.metrics import mean_absolute_error, r2_score, root_mean_squared_error\n",
    "\n",
    "print(\"Result on the logged data\")\n",
    "print(\"Mean Absolute Error (MAE): %.2f\" % mean_absolute_error(df_test[['p']], prediction))\n",
    "print(\"Root Mean Squarred Error (RMSE): %.2f\" % root_mean_squared_error(df_test[['p']], prediction))\n",
    "print(\"R2 Score %.2f\" % r2_score(df_test[['p']], prediction))"
   ]
  },
  {
   "cell_type": "code",
   "execution_count": 8,
   "metadata": {},
   "outputs": [],
   "source": [
    "prediction = np.exp(prediction)\n",
    "\n",
    "df_test['p'] = np.exp(df_test['p'])"
   ]
  },
  {
   "cell_type": "code",
   "execution_count": 9,
   "metadata": {},
   "outputs": [
    {
     "name": "stdout",
     "output_type": "stream",
     "text": [
      "Results on regular data\n",
      "Mean Absolute Error (MAE): 233599.65\n",
      "Root Mean Squarred Error (RMSE): 13735786.28\n",
      "R2 Score 0.01\n"
     ]
    }
   ],
   "source": [
    "print(\"Results on regular data\")\n",
    "print(\"Mean Absolute Error (MAE): %.2f\" % mean_absolute_error(df_test[['p']], prediction))\n",
    "print(\"Root Mean Squarred Error (RMSE): %.2f\" % root_mean_squared_error(df_test[['p']], prediction))\n",
    "print(\"R2 Score %.2f\" % r2_score(df_test[['p']], prediction))"
   ]
  },
  {
   "cell_type": "code",
   "execution_count": 10,
   "metadata": {},
   "outputs": [
    {
     "data": {
      "image/png": "[encoded data removed]",
      "text/plain": [
       "<Figure size 640x480 with 1 Axes>"
      ]
     },
     "metadata": {},
     "output_type": "display_data"
    }
   ],
   "source": [
    "import matplotlib.pyplot as plt\n",
    "\n",
    "plt.scatter(df_test['t'], df_test['p'])\n",
    "plt.scatter(df_test['t'], prediction)\n",
    "plt.show()"
   ]
  }
 ],
 "metadata": {
  "kernelspec": {
   "display_name": "Python 3",
   "language": "python",
   "name": "python3"
  },
  "language_info": {
   "codemirror_mode": {
    "name": "ipython",
    "version": 3
   },
   "file_extension": ".py",
   "mimetype": "text/x-python",
   "name": "python",
   "nbconvert_exporter": "python",
   "pygments_lexer": "ipython3",
   "version": "3.10.13"
  }
 },
 "nbformat": 4,
 "nbformat_minor": 2
}
