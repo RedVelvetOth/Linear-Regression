{
 "cells": [
  {
   "cell_type": "code",
   "execution_count": 10,
   "metadata": {},
   "outputs": [],
   "source": [
    "import pandas as pd\n",
    "\n",
    "df_train = pd.read_csv('../data/train_data_stg.csv', delimiter='|')\n",
    "df_test = pd.read_csv('../data/test_data_stg.csv', delimiter='|')\n",
    "\n",
    "df = pd.concat([df_train, df_test], ignore_index=True)\n",
    "df = df.drop(['rank'], axis=1)"
   ]
  },
  {
   "cell_type": "code",
   "execution_count": 11,
   "metadata": {},
   "outputs": [],
   "source": [
    "import numpy as np\n",
    "\n",
    "df = np.log(df)"
   ]
  },
  {
   "cell_type": "code",
   "execution_count": 12,
   "metadata": {},
   "outputs": [],
   "source": [
    "from sklearn.model_selection import train_test_split\n",
    "\n",
    "train_data, test_data = train_test_split(df, test_size=0.25, random_state=42)"
   ]
  },
  {
   "cell_type": "code",
   "execution_count": 13,
   "metadata": {},
   "outputs": [],
   "source": [
    "import tensorflow as tf\n",
    "import tensorflow.keras.layers as layers \n",
    "\n",
    "model = tf.keras.Sequential([\n",
    "    layers.Input(shape=[1,]),\n",
    "    layers.Dense(units=128, activation='relu'),\n",
    "    layers.Dense(units=64, activation='relu'),\n",
    "    layers.Dense(units=32, activation='relu'),\n",
    "    layers.Dense(units = 1)\n",
    "])"
   ]
  },
  {
   "cell_type": "code",
   "execution_count": 14,
   "metadata": {},
   "outputs": [
    {
     "data": {
      "text/html": [
       "<pre style=\"white-space:pre;overflow-x:auto;line-height:normal;font-family:Menlo,'DejaVu Sans Mono',consolas,'Courier New',monospace\"><span style=\"font-weight: bold\">Model: \"sequential_1\"</span>\n",
       "</pre>\n"
      ],
      "text/plain": [
       "\u001b[1mModel: \"sequential_1\"\u001b[0m\n"
      ]
     },
     "metadata": {},
     "output_type": "display_data"
    },
    {
     "data": {
      "text/html": [
       "<pre style=\"white-space:pre;overflow-x:auto;line-height:normal;font-family:Menlo,'DejaVu Sans Mono',consolas,'Courier New',monospace\">┏━━━━━━━━━━━━━━━━━━━━━━━━━━━━━━━━━┳━━━━━━━━━━━━━━━━━━━━━━━━┳━━━━━━━━━━━━━━━┓\n",
       "┃<span style=\"font-weight: bold\"> Layer (type)                    </span>┃<span style=\"font-weight: bold\"> Output Shape           </span>┃<span style=\"font-weight: bold\">       Param # </span>┃\n",
       "┡━━━━━━━━━━━━━━━━━━━━━━━━━━━━━━━━━╇━━━━━━━━━━━━━━━━━━━━━━━━╇━━━━━━━━━━━━━━━┩\n",
       "│ dense_4 (<span style=\"color: #0087ff; text-decoration-color: #0087ff\">Dense</span>)                 │ (<span style=\"color: #00d7ff; text-decoration-color: #00d7ff\">None</span>, <span style=\"color: #00af00; text-decoration-color: #00af00\">128</span>)            │           <span style=\"color: #00af00; text-decoration-color: #00af00\">256</span> │\n",
       "├─────────────────────────────────┼────────────────────────┼───────────────┤\n",
       "│ dense_5 (<span style=\"color: #0087ff; text-decoration-color: #0087ff\">Dense</span>)                 │ (<span style=\"color: #00d7ff; text-decoration-color: #00d7ff\">None</span>, <span style=\"color: #00af00; text-decoration-color: #00af00\">64</span>)             │         <span style=\"color: #00af00; text-decoration-color: #00af00\">8,256</span> │\n",
       "├─────────────────────────────────┼────────────────────────┼───────────────┤\n",
       "│ dense_6 (<span style=\"color: #0087ff; text-decoration-color: #0087ff\">Dense</span>)                 │ (<span style=\"color: #00d7ff; text-decoration-color: #00d7ff\">None</span>, <span style=\"color: #00af00; text-decoration-color: #00af00\">32</span>)             │         <span style=\"color: #00af00; text-decoration-color: #00af00\">2,080</span> │\n",
       "├─────────────────────────────────┼────────────────────────┼───────────────┤\n",
       "│ dense_7 (<span style=\"color: #0087ff; text-decoration-color: #0087ff\">Dense</span>)                 │ (<span style=\"color: #00d7ff; text-decoration-color: #00d7ff\">None</span>, <span style=\"color: #00af00; text-decoration-color: #00af00\">1</span>)              │            <span style=\"color: #00af00; text-decoration-color: #00af00\">33</span> │\n",
       "└─────────────────────────────────┴────────────────────────┴───────────────┘\n",
       "</pre>\n"
      ],
      "text/plain": [
       "┏━━━━━━━━━━━━━━━━━━━━━━━━━━━━━━━━━┳━━━━━━━━━━━━━━━━━━━━━━━━┳━━━━━━━━━━━━━━━┓\n",
       "┃\u001b[1m \u001b[0m\u001b[1mLayer (type)                   \u001b[0m\u001b[1m \u001b[0m┃\u001b[1m \u001b[0m\u001b[1mOutput Shape          \u001b[0m\u001b[1m \u001b[0m┃\u001b[1m \u001b[0m\u001b[1m      Param #\u001b[0m\u001b[1m \u001b[0m┃\n",
       "┡━━━━━━━━━━━━━━━━━━━━━━━━━━━━━━━━━╇━━━━━━━━━━━━━━━━━━━━━━━━╇━━━━━━━━━━━━━━━┩\n",
       "│ dense_4 (\u001b[38;5;33mDense\u001b[0m)                 │ (\u001b[38;5;45mNone\u001b[0m, \u001b[38;5;34m128\u001b[0m)            │           \u001b[38;5;34m256\u001b[0m │\n",
       "├─────────────────────────────────┼────────────────────────┼───────────────┤\n",
       "│ dense_5 (\u001b[38;5;33mDense\u001b[0m)                 │ (\u001b[38;5;45mNone\u001b[0m, \u001b[38;5;34m64\u001b[0m)             │         \u001b[38;5;34m8,256\u001b[0m │\n",
       "├─────────────────────────────────┼────────────────────────┼───────────────┤\n",
       "│ dense_6 (\u001b[38;5;33mDense\u001b[0m)                 │ (\u001b[38;5;45mNone\u001b[0m, \u001b[38;5;34m32\u001b[0m)             │         \u001b[38;5;34m2,080\u001b[0m │\n",
       "├─────────────────────────────────┼────────────────────────┼───────────────┤\n",
       "│ dense_7 (\u001b[38;5;33mDense\u001b[0m)                 │ (\u001b[38;5;45mNone\u001b[0m, \u001b[38;5;34m1\u001b[0m)              │            \u001b[38;5;34m33\u001b[0m │\n",
       "└─────────────────────────────────┴────────────────────────┴───────────────┘\n"
      ]
     },
     "metadata": {},
     "output_type": "display_data"
    },
    {
     "data": {
      "text/html": [
       "<pre style=\"white-space:pre;overflow-x:auto;line-height:normal;font-family:Menlo,'DejaVu Sans Mono',consolas,'Courier New',monospace\"><span style=\"font-weight: bold\"> Total params: </span><span style=\"color: #00af00; text-decoration-color: #00af00\">10,625</span> (41.50 KB)\n",
       "</pre>\n"
      ],
      "text/plain": [
       "\u001b[1m Total params: \u001b[0m\u001b[38;5;34m10,625\u001b[0m (41.50 KB)\n"
      ]
     },
     "metadata": {},
     "output_type": "display_data"
    },
    {
     "data": {
      "text/html": [
       "<pre style=\"white-space:pre;overflow-x:auto;line-height:normal;font-family:Menlo,'DejaVu Sans Mono',consolas,'Courier New',monospace\"><span style=\"font-weight: bold\"> Trainable params: </span><span style=\"color: #00af00; text-decoration-color: #00af00\">10,625</span> (41.50 KB)\n",
       "</pre>\n"
      ],
      "text/plain": [
       "\u001b[1m Trainable params: \u001b[0m\u001b[38;5;34m10,625\u001b[0m (41.50 KB)\n"
      ]
     },
     "metadata": {},
     "output_type": "display_data"
    },
    {
     "data": {
      "text/html": [
       "<pre style=\"white-space:pre;overflow-x:auto;line-height:normal;font-family:Menlo,'DejaVu Sans Mono',consolas,'Courier New',monospace\"><span style=\"font-weight: bold\"> Non-trainable params: </span><span style=\"color: #00af00; text-decoration-color: #00af00\">0</span> (0.00 B)\n",
       "</pre>\n"
      ],
      "text/plain": [
       "\u001b[1m Non-trainable params: \u001b[0m\u001b[38;5;34m0\u001b[0m (0.00 B)\n"
      ]
     },
     "metadata": {},
     "output_type": "display_data"
    }
   ],
   "source": [
    "model.summary()"
   ]
  },
  {
   "cell_type": "code",
   "execution_count": 15,
   "metadata": {},
   "outputs": [],
   "source": [
    "model.compile(\n",
    "    optimizer=tf.keras.optimizers.Adam(learning_rate=0.001),\n",
    "    loss='mean_absolute_error'\n",
    ")"
   ]
  },
  {
   "cell_type": "code",
   "execution_count": 16,
   "metadata": {},
   "outputs": [
    {
     "name": "stdout",
     "output_type": "stream",
     "text": [
      "Epoch 1/100\n"
     ]
    },
    {
     "name": "stdout",
     "output_type": "stream",
     "text": [
      "\u001b[1m6087/6087\u001b[0m \u001b[32m━━━━━━━━━━━━━━━━━━━━\u001b[0m\u001b[37m\u001b[0m \u001b[1m7s\u001b[0m 924us/step - loss: 1.2245 - val_loss: 1.1542\n",
      "Epoch 2/100\n",
      "\u001b[1m6087/6087\u001b[0m \u001b[32m━━━━━━━━━━━━━━━━━━━━\u001b[0m\u001b[37m\u001b[0m \u001b[1m6s\u001b[0m 908us/step - loss: 1.1693 - val_loss: 1.1613\n",
      "Epoch 3/100\n",
      "\u001b[1m6087/6087\u001b[0m \u001b[32m━━━━━━━━━━━━━━━━━━━━\u001b[0m\u001b[37m\u001b[0m \u001b[1m6s\u001b[0m 912us/step - loss: 1.1683 - val_loss: 1.1641\n",
      "Epoch 4/100\n",
      "\u001b[1m6087/6087\u001b[0m \u001b[32m━━━━━━━━━━━━━━━━━━━━\u001b[0m\u001b[37m\u001b[0m \u001b[1m6s\u001b[0m 906us/step - loss: 1.1632 - val_loss: 1.1926\n",
      "Epoch 5/100\n",
      "\u001b[1m6087/6087\u001b[0m \u001b[32m━━━━━━━━━━━━━━━━━━━━\u001b[0m\u001b[37m\u001b[0m \u001b[1m6s\u001b[0m 915us/step - loss: 1.1537 - val_loss: 1.1446\n",
      "Epoch 6/100\n",
      "\u001b[1m6087/6087\u001b[0m \u001b[32m━━━━━━━━━━━━━━━━━━━━\u001b[0m\u001b[37m\u001b[0m \u001b[1m6s\u001b[0m 911us/step - loss: 1.1379 - val_loss: 1.1334\n",
      "Epoch 7/100\n",
      "\u001b[1m6087/6087\u001b[0m \u001b[32m━━━━━━━━━━━━━━━━━━━━\u001b[0m\u001b[37m\u001b[0m \u001b[1m6s\u001b[0m 917us/step - loss: 1.1243 - val_loss: 1.1526\n",
      "Epoch 8/100\n",
      "\u001b[1m6087/6087\u001b[0m \u001b[32m━━━━━━━━━━━━━━━━━━━━\u001b[0m\u001b[37m\u001b[0m \u001b[1m6s\u001b[0m 910us/step - loss: 1.1173 - val_loss: 1.1079\n",
      "Epoch 9/100\n",
      "\u001b[1m6087/6087\u001b[0m \u001b[32m━━━━━━━━━━━━━━━━━━━━\u001b[0m\u001b[37m\u001b[0m \u001b[1m6s\u001b[0m 907us/step - loss: 1.1184 - val_loss: 1.1065\n",
      "Epoch 10/100\n",
      "\u001b[1m6087/6087\u001b[0m \u001b[32m━━━━━━━━━━━━━━━━━━━━\u001b[0m\u001b[37m\u001b[0m \u001b[1m6s\u001b[0m 952us/step - loss: 1.1180 - val_loss: 1.1101\n",
      "Epoch 11/100\n",
      "\u001b[1m6087/6087\u001b[0m \u001b[32m━━━━━━━━━━━━━━━━━━━━\u001b[0m\u001b[37m\u001b[0m \u001b[1m6s\u001b[0m 920us/step - loss: 1.1131 - val_loss: 1.1056\n",
      "Epoch 12/100\n",
      "\u001b[1m6087/6087\u001b[0m \u001b[32m━━━━━━━━━━━━━━━━━━━━\u001b[0m\u001b[37m\u001b[0m \u001b[1m6s\u001b[0m 981us/step - loss: 1.1131 - val_loss: 1.1050\n",
      "Epoch 13/100\n",
      "\u001b[1m6087/6087\u001b[0m \u001b[32m━━━━━━━━━━━━━━━━━━━━\u001b[0m\u001b[37m\u001b[0m \u001b[1m6s\u001b[0m 917us/step - loss: 1.1113 - val_loss: 1.1046\n",
      "Epoch 14/100\n",
      "\u001b[1m6087/6087\u001b[0m \u001b[32m━━━━━━━━━━━━━━━━━━━━\u001b[0m\u001b[37m\u001b[0m \u001b[1m6s\u001b[0m 915us/step - loss: 1.1146 - val_loss: 1.1078\n",
      "Epoch 15/100\n",
      "\u001b[1m6087/6087\u001b[0m \u001b[32m━━━━━━━━━━━━━━━━━━━━\u001b[0m\u001b[37m\u001b[0m \u001b[1m6s\u001b[0m 910us/step - loss: 1.1167 - val_loss: 1.1381\n",
      "Epoch 16/100\n",
      "\u001b[1m6087/6087\u001b[0m \u001b[32m━━━━━━━━━━━━━━━━━━━━\u001b[0m\u001b[37m\u001b[0m \u001b[1m6s\u001b[0m 914us/step - loss: 1.1139 - val_loss: 1.1073\n",
      "Epoch 17/100\n",
      "\u001b[1m6087/6087\u001b[0m \u001b[32m━━━━━━━━━━━━━━━━━━━━\u001b[0m\u001b[37m\u001b[0m \u001b[1m6s\u001b[0m 904us/step - loss: 1.1133 - val_loss: 1.1079\n",
      "Epoch 18/100\n",
      "\u001b[1m6087/6087\u001b[0m \u001b[32m━━━━━━━━━━━━━━━━━━━━\u001b[0m\u001b[37m\u001b[0m \u001b[1m6s\u001b[0m 921us/step - loss: 1.1143 - val_loss: 1.1140\n",
      "Epoch 19/100\n",
      "\u001b[1m6087/6087\u001b[0m \u001b[32m━━━━━━━━━━━━━━━━━━━━\u001b[0m\u001b[37m\u001b[0m \u001b[1m6s\u001b[0m 927us/step - loss: 1.1122 - val_loss: 1.1106\n",
      "Epoch 20/100\n",
      "\u001b[1m6087/6087\u001b[0m \u001b[32m━━━━━━━━━━━━━━━━━━━━\u001b[0m\u001b[37m\u001b[0m \u001b[1m6s\u001b[0m 928us/step - loss: 1.1114 - val_loss: 1.1415\n",
      "Epoch 21/100\n",
      "\u001b[1m6087/6087\u001b[0m \u001b[32m━━━━━━━━━━━━━━━━━━━━\u001b[0m\u001b[37m\u001b[0m \u001b[1m6s\u001b[0m 910us/step - loss: 1.1103 - val_loss: 1.1045\n",
      "Epoch 22/100\n",
      "\u001b[1m6087/6087\u001b[0m \u001b[32m━━━━━━━━━━━━━━━━━━━━\u001b[0m\u001b[37m\u001b[0m \u001b[1m6s\u001b[0m 915us/step - loss: 1.1056 - val_loss: 1.1039\n",
      "Epoch 23/100\n",
      "\u001b[1m6087/6087\u001b[0m \u001b[32m━━━━━━━━━━━━━━━━━━━━\u001b[0m\u001b[37m\u001b[0m \u001b[1m6s\u001b[0m 905us/step - loss: 1.1074 - val_loss: 1.1090\n",
      "Epoch 24/100\n",
      "\u001b[1m6087/6087\u001b[0m \u001b[32m━━━━━━━━━━━━━━━━━━━━\u001b[0m\u001b[37m\u001b[0m \u001b[1m5s\u001b[0m 900us/step - loss: 1.1117 - val_loss: 1.1136\n",
      "Epoch 25/100\n",
      "\u001b[1m6087/6087\u001b[0m \u001b[32m━━━━━━━━━━━━━━━━━━━━\u001b[0m\u001b[37m\u001b[0m \u001b[1m6s\u001b[0m 907us/step - loss: 1.1129 - val_loss: 1.1058\n",
      "Epoch 26/100\n",
      "\u001b[1m6087/6087\u001b[0m \u001b[32m━━━━━━━━━━━━━━━━━━━━\u001b[0m\u001b[37m\u001b[0m \u001b[1m6s\u001b[0m 907us/step - loss: 1.1124 - val_loss: 1.1175\n",
      "Epoch 27/100\n",
      "\u001b[1m6087/6087\u001b[0m \u001b[32m━━━━━━━━━━━━━━━━━━━━\u001b[0m\u001b[37m\u001b[0m \u001b[1m6s\u001b[0m 902us/step - loss: 1.1085 - val_loss: 1.1043\n",
      "Epoch 28/100\n",
      "\u001b[1m6087/6087\u001b[0m \u001b[32m━━━━━━━━━━━━━━━━━━━━\u001b[0m\u001b[37m\u001b[0m \u001b[1m5s\u001b[0m 897us/step - loss: 1.1109 - val_loss: 1.1041\n",
      "Epoch 29/100\n",
      "\u001b[1m6087/6087\u001b[0m \u001b[32m━━━━━━━━━━━━━━━━━━━━\u001b[0m\u001b[37m\u001b[0m \u001b[1m5s\u001b[0m 900us/step - loss: 1.1116 - val_loss: 1.1054\n",
      "Epoch 30/100\n",
      "\u001b[1m6087/6087\u001b[0m \u001b[32m━━━━━━━━━━━━━━━━━━━━\u001b[0m\u001b[37m\u001b[0m \u001b[1m5s\u001b[0m 890us/step - loss: 1.1132 - val_loss: 1.1031\n",
      "Epoch 31/100\n",
      "\u001b[1m6087/6087\u001b[0m \u001b[32m━━━━━━━━━━━━━━━━━━━━\u001b[0m\u001b[37m\u001b[0m \u001b[1m5s\u001b[0m 896us/step - loss: 1.1102 - val_loss: 1.1039\n",
      "Epoch 32/100\n",
      "\u001b[1m6087/6087\u001b[0m \u001b[32m━━━━━━━━━━━━━━━━━━━━\u001b[0m\u001b[37m\u001b[0m \u001b[1m5s\u001b[0m 898us/step - loss: 1.1089 - val_loss: 1.1167\n",
      "Epoch 33/100\n",
      "\u001b[1m6087/6087\u001b[0m \u001b[32m━━━━━━━━━━━━━━━━━━━━\u001b[0m\u001b[37m\u001b[0m \u001b[1m5s\u001b[0m 900us/step - loss: 1.1110 - val_loss: 1.1085\n",
      "Epoch 34/100\n",
      "\u001b[1m6087/6087\u001b[0m \u001b[32m━━━━━━━━━━━━━━━━━━━━\u001b[0m\u001b[37m\u001b[0m \u001b[1m6s\u001b[0m 903us/step - loss: 1.1107 - val_loss: 1.1037\n",
      "Epoch 35/100\n",
      "\u001b[1m6087/6087\u001b[0m \u001b[32m━━━━━━━━━━━━━━━━━━━━\u001b[0m\u001b[37m\u001b[0m \u001b[1m5s\u001b[0m 895us/step - loss: 1.1139 - val_loss: 1.1034\n",
      "Epoch 36/100\n",
      "\u001b[1m6087/6087\u001b[0m \u001b[32m━━━━━━━━━━━━━━━━━━━━\u001b[0m\u001b[37m\u001b[0m \u001b[1m6s\u001b[0m 903us/step - loss: 1.1070 - val_loss: 1.1029\n",
      "Epoch 37/100\n",
      "\u001b[1m6087/6087\u001b[0m \u001b[32m━━━━━━━━━━━━━━━━━━━━\u001b[0m\u001b[37m\u001b[0m \u001b[1m5s\u001b[0m 899us/step - loss: 1.1101 - val_loss: 1.1082\n",
      "Epoch 38/100\n",
      "\u001b[1m6087/6087\u001b[0m \u001b[32m━━━━━━━━━━━━━━━━━━━━\u001b[0m\u001b[37m\u001b[0m \u001b[1m6s\u001b[0m 902us/step - loss: 1.1083 - val_loss: 1.1037\n",
      "Epoch 39/100\n",
      "\u001b[1m6087/6087\u001b[0m \u001b[32m━━━━━━━━━━━━━━━━━━━━\u001b[0m\u001b[37m\u001b[0m \u001b[1m5s\u001b[0m 892us/step - loss: 1.1084 - val_loss: 1.1113\n",
      "Epoch 40/100\n",
      "\u001b[1m6087/6087\u001b[0m \u001b[32m━━━━━━━━━━━━━━━━━━━━\u001b[0m\u001b[37m\u001b[0m \u001b[1m5s\u001b[0m 889us/step - loss: 1.1075 - val_loss: 1.1194\n",
      "Epoch 41/100\n",
      "\u001b[1m6087/6087\u001b[0m \u001b[32m━━━━━━━━━━━━━━━━━━━━\u001b[0m\u001b[37m\u001b[0m \u001b[1m5s\u001b[0m 887us/step - loss: 1.1088 - val_loss: 1.1032\n",
      "Epoch 42/100\n",
      "\u001b[1m6087/6087\u001b[0m \u001b[32m━━━━━━━━━━━━━━━━━━━━\u001b[0m\u001b[37m\u001b[0m \u001b[1m5s\u001b[0m 894us/step - loss: 1.1072 - val_loss: 1.1034\n",
      "Epoch 43/100\n",
      "\u001b[1m6087/6087\u001b[0m \u001b[32m━━━━━━━━━━━━━━━━━━━━\u001b[0m\u001b[37m\u001b[0m \u001b[1m5s\u001b[0m 885us/step - loss: 1.1107 - val_loss: 1.1044\n",
      "Epoch 44/100\n",
      "\u001b[1m6087/6087\u001b[0m \u001b[32m━━━━━━━━━━━━━━━━━━━━\u001b[0m\u001b[37m\u001b[0m \u001b[1m5s\u001b[0m 890us/step - loss: 1.1082 - val_loss: 1.1032\n",
      "Epoch 45/100\n",
      "\u001b[1m6087/6087\u001b[0m \u001b[32m━━━━━━━━━━━━━━━━━━━━\u001b[0m\u001b[37m\u001b[0m \u001b[1m5s\u001b[0m 887us/step - loss: 1.1124 - val_loss: 1.1454\n",
      "Epoch 46/100\n",
      "\u001b[1m6087/6087\u001b[0m \u001b[32m━━━━━━━━━━━━━━━━━━━━\u001b[0m\u001b[37m\u001b[0m \u001b[1m5s\u001b[0m 890us/step - loss: 1.1075 - val_loss: 1.1035\n",
      "Epoch 47/100\n",
      "\u001b[1m6087/6087\u001b[0m \u001b[32m━━━━━━━━━━━━━━━━━━━━\u001b[0m\u001b[37m\u001b[0m \u001b[1m5s\u001b[0m 890us/step - loss: 1.1091 - val_loss: 1.1036\n",
      "Epoch 48/100\n",
      "\u001b[1m6087/6087\u001b[0m \u001b[32m━━━━━━━━━━━━━━━━━━━━\u001b[0m\u001b[37m\u001b[0m \u001b[1m5s\u001b[0m 899us/step - loss: 1.1065 - val_loss: 1.1030\n",
      "Epoch 49/100\n",
      "\u001b[1m6087/6087\u001b[0m \u001b[32m━━━━━━━━━━━━━━━━━━━━\u001b[0m\u001b[37m\u001b[0m \u001b[1m5s\u001b[0m 887us/step - loss: 1.1097 - val_loss: 1.1039\n",
      "Epoch 50/100\n",
      "\u001b[1m6087/6087\u001b[0m \u001b[32m━━━━━━━━━━━━━━━━━━━━\u001b[0m\u001b[37m\u001b[0m \u001b[1m5s\u001b[0m 883us/step - loss: 1.1053 - val_loss: 1.1043\n",
      "Epoch 51/100\n",
      "\u001b[1m6087/6087\u001b[0m \u001b[32m━━━━━━━━━━━━━━━━━━━━\u001b[0m\u001b[37m\u001b[0m \u001b[1m5s\u001b[0m 887us/step - loss: 1.1079 - val_loss: 1.1031\n",
      "Epoch 52/100\n",
      "\u001b[1m6087/6087\u001b[0m \u001b[32m━━━━━━━━━━━━━━━━━━━━\u001b[0m\u001b[37m\u001b[0m \u001b[1m5s\u001b[0m 883us/step - loss: 1.1051 - val_loss: 1.1041\n",
      "Epoch 53/100\n",
      "\u001b[1m6087/6087\u001b[0m \u001b[32m━━━━━━━━━━━━━━━━━━━━\u001b[0m\u001b[37m\u001b[0m \u001b[1m5s\u001b[0m 894us/step - loss: 1.1091 - val_loss: 1.1036\n",
      "Epoch 54/100\n",
      "\u001b[1m6087/6087\u001b[0m \u001b[32m━━━━━━━━━━━━━━━━━━━━\u001b[0m\u001b[37m\u001b[0m \u001b[1m5s\u001b[0m 880us/step - loss: 1.1077 - val_loss: 1.1065\n",
      "Epoch 55/100\n",
      "\u001b[1m6087/6087\u001b[0m \u001b[32m━━━━━━━━━━━━━━━━━━━━\u001b[0m\u001b[37m\u001b[0m \u001b[1m5s\u001b[0m 883us/step - loss: 1.1076 - val_loss: 1.1087\n",
      "Epoch 56/100\n",
      "\u001b[1m6087/6087\u001b[0m \u001b[32m━━━━━━━━━━━━━━━━━━━━\u001b[0m\u001b[37m\u001b[0m \u001b[1m5s\u001b[0m 879us/step - loss: 1.1117 - val_loss: 1.1046\n",
      "Epoch 57/100\n",
      "\u001b[1m6087/6087\u001b[0m \u001b[32m━━━━━━━━━━━━━━━━━━━━\u001b[0m\u001b[37m\u001b[0m \u001b[1m5s\u001b[0m 881us/step - loss: 1.1095 - val_loss: 1.1063\n",
      "Epoch 58/100\n",
      "\u001b[1m6087/6087\u001b[0m \u001b[32m━━━━━━━━━━━━━━━━━━━━\u001b[0m\u001b[37m\u001b[0m \u001b[1m5s\u001b[0m 885us/step - loss: 1.1165 - val_loss: 1.1036\n",
      "Epoch 59/100\n",
      "\u001b[1m6087/6087\u001b[0m \u001b[32m━━━━━━━━━━━━━━━━━━━━\u001b[0m\u001b[37m\u001b[0m \u001b[1m5s\u001b[0m 884us/step - loss: 1.1109 - val_loss: 1.1029\n",
      "Epoch 60/100\n",
      "\u001b[1m6087/6087\u001b[0m \u001b[32m━━━━━━━━━━━━━━━━━━━━\u001b[0m\u001b[37m\u001b[0m \u001b[1m5s\u001b[0m 877us/step - loss: 1.1083 - val_loss: 1.1051\n",
      "Epoch 61/100\n",
      "\u001b[1m6087/6087\u001b[0m \u001b[32m━━━━━━━━━━━━━━━━━━━━\u001b[0m\u001b[37m\u001b[0m \u001b[1m6s\u001b[0m 956us/step - loss: 1.1075 - val_loss: 1.1096\n",
      "Epoch 62/100\n",
      "\u001b[1m6087/6087\u001b[0m \u001b[32m━━━━━━━━━━━━━━━━━━━━\u001b[0m\u001b[37m\u001b[0m \u001b[1m5s\u001b[0m 877us/step - loss: 1.1071 - val_loss: 1.1154\n",
      "Epoch 63/100\n",
      "\u001b[1m6087/6087\u001b[0m \u001b[32m━━━━━━━━━━━━━━━━━━━━\u001b[0m\u001b[37m\u001b[0m \u001b[1m5s\u001b[0m 881us/step - loss: 1.1061 - val_loss: 1.1029\n",
      "Epoch 64/100\n",
      "\u001b[1m6087/6087\u001b[0m \u001b[32m━━━━━━━━━━━━━━━━━━━━\u001b[0m\u001b[37m\u001b[0m \u001b[1m5s\u001b[0m 883us/step - loss: 1.1088 - val_loss: 1.1029\n",
      "Epoch 65/100\n",
      "\u001b[1m6087/6087\u001b[0m \u001b[32m━━━━━━━━━━━━━━━━━━━━\u001b[0m\u001b[37m\u001b[0m \u001b[1m5s\u001b[0m 885us/step - loss: 1.1077 - val_loss: 1.1029\n",
      "Epoch 66/100\n",
      "\u001b[1m6087/6087\u001b[0m \u001b[32m━━━━━━━━━━━━━━━━━━━━\u001b[0m\u001b[37m\u001b[0m \u001b[1m5s\u001b[0m 878us/step - loss: 1.1121 - val_loss: 1.1231\n",
      "Epoch 67/100\n",
      "\u001b[1m6087/6087\u001b[0m \u001b[32m━━━━━━━━━━━━━━━━━━━━\u001b[0m\u001b[37m\u001b[0m \u001b[1m5s\u001b[0m 879us/step - loss: 1.1076 - val_loss: 1.1187\n",
      "Epoch 68/100\n",
      "\u001b[1m6087/6087\u001b[0m \u001b[32m━━━━━━━━━━━━━━━━━━━━\u001b[0m\u001b[37m\u001b[0m \u001b[1m5s\u001b[0m 881us/step - loss: 1.1047 - val_loss: 1.1035\n",
      "Epoch 69/100\n",
      "\u001b[1m6087/6087\u001b[0m \u001b[32m━━━━━━━━━━━━━━━━━━━━\u001b[0m\u001b[37m\u001b[0m \u001b[1m5s\u001b[0m 879us/step - loss: 1.1104 - val_loss: 1.1041\n",
      "Epoch 70/100\n",
      "\u001b[1m6087/6087\u001b[0m \u001b[32m━━━━━━━━━━━━━━━━━━━━\u001b[0m\u001b[37m\u001b[0m \u001b[1m5s\u001b[0m 882us/step - loss: 1.1101 - val_loss: 1.1144\n",
      "Epoch 71/100\n",
      "\u001b[1m6087/6087\u001b[0m \u001b[32m━━━━━━━━━━━━━━━━━━━━\u001b[0m\u001b[37m\u001b[0m \u001b[1m5s\u001b[0m 872us/step - loss: 1.1057 - val_loss: 1.1037\n",
      "Epoch 72/100\n",
      "\u001b[1m6087/6087\u001b[0m \u001b[32m━━━━━━━━━━━━━━━━━━━━\u001b[0m\u001b[37m\u001b[0m \u001b[1m5s\u001b[0m 873us/step - loss: 1.1072 - val_loss: 1.1032\n",
      "Epoch 73/100\n",
      "\u001b[1m6087/6087\u001b[0m \u001b[32m━━━━━━━━━━━━━━━━━━━━\u001b[0m\u001b[37m\u001b[0m \u001b[1m5s\u001b[0m 878us/step - loss: 1.1108 - val_loss: 1.1158\n",
      "Epoch 74/100\n",
      "\u001b[1m6087/6087\u001b[0m \u001b[32m━━━━━━━━━━━━━━━━━━━━\u001b[0m\u001b[37m\u001b[0m \u001b[1m10s\u001b[0m 883us/step - loss: 1.1100 - val_loss: 1.1134\n",
      "Epoch 75/100\n",
      "\u001b[1m6087/6087\u001b[0m \u001b[32m━━━━━━━━━━━━━━━━━━━━\u001b[0m\u001b[37m\u001b[0m \u001b[1m5s\u001b[0m 896us/step - loss: 1.1084 - val_loss: 1.1032\n",
      "Epoch 76/100\n",
      "\u001b[1m6087/6087\u001b[0m \u001b[32m━━━━━━━━━━━━━━━━━━━━\u001b[0m\u001b[37m\u001b[0m \u001b[1m5s\u001b[0m 879us/step - loss: 1.1034 - val_loss: 1.1310\n",
      "Epoch 77/100\n",
      "\u001b[1m6087/6087\u001b[0m \u001b[32m━━━━━━━━━━━━━━━━━━━━\u001b[0m\u001b[37m\u001b[0m \u001b[1m5s\u001b[0m 887us/step - loss: 1.1060 - val_loss: 1.1028\n",
      "Epoch 78/100\n",
      "\u001b[1m6087/6087\u001b[0m \u001b[32m━━━━━━━━━━━━━━━━━━━━\u001b[0m\u001b[37m\u001b[0m \u001b[1m5s\u001b[0m 879us/step - loss: 1.1091 - val_loss: 1.1080\n",
      "Epoch 79/100\n",
      "\u001b[1m6087/6087\u001b[0m \u001b[32m━━━━━━━━━━━━━━━━━━━━\u001b[0m\u001b[37m\u001b[0m \u001b[1m5s\u001b[0m 877us/step - loss: 1.1075 - val_loss: 1.1101\n",
      "Epoch 80/100\n",
      "\u001b[1m6087/6087\u001b[0m \u001b[32m━━━━━━━━━━━━━━━━━━━━\u001b[0m\u001b[37m\u001b[0m \u001b[1m5s\u001b[0m 881us/step - loss: 1.1112 - val_loss: 1.1028\n",
      "Epoch 81/100\n",
      "\u001b[1m6087/6087\u001b[0m \u001b[32m━━━━━━━━━━━━━━━━━━━━\u001b[0m\u001b[37m\u001b[0m \u001b[1m5s\u001b[0m 885us/step - loss: 1.1068 - val_loss: 1.1126\n",
      "Epoch 82/100\n",
      "\u001b[1m6087/6087\u001b[0m \u001b[32m━━━━━━━━━━━━━━━━━━━━\u001b[0m\u001b[37m\u001b[0m \u001b[1m5s\u001b[0m 881us/step - loss: 1.1080 - val_loss: 1.1192\n",
      "Epoch 83/100\n",
      "\u001b[1m6087/6087\u001b[0m \u001b[32m━━━━━━━━━━━━━━━━━━━━\u001b[0m\u001b[37m\u001b[0m \u001b[1m5s\u001b[0m 877us/step - loss: 1.1080 - val_loss: 1.1033\n",
      "Epoch 84/100\n",
      "\u001b[1m6087/6087\u001b[0m \u001b[32m━━━━━━━━━━━━━━━━━━━━\u001b[0m\u001b[37m\u001b[0m \u001b[1m5s\u001b[0m 882us/step - loss: 1.1084 - val_loss: 1.1088\n",
      "Epoch 85/100\n",
      "\u001b[1m6087/6087\u001b[0m \u001b[32m━━━━━━━━━━━━━━━━━━━━\u001b[0m\u001b[37m\u001b[0m \u001b[1m5s\u001b[0m 887us/step - loss: 1.1084 - val_loss: 1.1199\n",
      "Epoch 86/100\n",
      "\u001b[1m6087/6087\u001b[0m \u001b[32m━━━━━━━━━━━━━━━━━━━━\u001b[0m\u001b[37m\u001b[0m \u001b[1m5s\u001b[0m 887us/step - loss: 1.1090 - val_loss: 1.1038\n",
      "Epoch 87/100\n",
      "\u001b[1m6087/6087\u001b[0m \u001b[32m━━━━━━━━━━━━━━━━━━━━\u001b[0m\u001b[37m\u001b[0m \u001b[1m5s\u001b[0m 878us/step - loss: 1.1064 - val_loss: 1.1050\n",
      "Epoch 88/100\n",
      "\u001b[1m6087/6087\u001b[0m \u001b[32m━━━━━━━━━━━━━━━━━━━━\u001b[0m\u001b[37m\u001b[0m \u001b[1m5s\u001b[0m 883us/step - loss: 1.1080 - val_loss: 1.1071\n",
      "Epoch 89/100\n",
      "\u001b[1m6087/6087\u001b[0m \u001b[32m━━━━━━━━━━━━━━━━━━━━\u001b[0m\u001b[37m\u001b[0m \u001b[1m5s\u001b[0m 880us/step - loss: 1.1047 - val_loss: 1.1063\n",
      "Epoch 90/100\n",
      "\u001b[1m6087/6087\u001b[0m \u001b[32m━━━━━━━━━━━━━━━━━━━━\u001b[0m\u001b[37m\u001b[0m \u001b[1m5s\u001b[0m 889us/step - loss: 1.1067 - val_loss: 1.1035\n",
      "Epoch 91/100\n",
      "\u001b[1m6087/6087\u001b[0m \u001b[32m━━━━━━━━━━━━━━━━━━━━\u001b[0m\u001b[37m\u001b[0m \u001b[1m5s\u001b[0m 877us/step - loss: 1.1043 - val_loss: 1.1140\n",
      "Epoch 92/100\n",
      "\u001b[1m6087/6087\u001b[0m \u001b[32m━━━━━━━━━━━━━━━━━━━━\u001b[0m\u001b[37m\u001b[0m \u001b[1m5s\u001b[0m 877us/step - loss: 1.1062 - val_loss: 1.1094\n",
      "Epoch 93/100\n",
      "\u001b[1m6087/6087\u001b[0m \u001b[32m━━━━━━━━━━━━━━━━━━━━\u001b[0m\u001b[37m\u001b[0m \u001b[1m5s\u001b[0m 884us/step - loss: 1.1076 - val_loss: 1.1032\n",
      "Epoch 94/100\n",
      "\u001b[1m6087/6087\u001b[0m \u001b[32m━━━━━━━━━━━━━━━━━━━━\u001b[0m\u001b[37m\u001b[0m \u001b[1m5s\u001b[0m 889us/step - loss: 1.1079 - val_loss: 1.1046\n",
      "Epoch 95/100\n",
      "\u001b[1m6087/6087\u001b[0m \u001b[32m━━━━━━━━━━━━━━━━━━━━\u001b[0m\u001b[37m\u001b[0m \u001b[1m5s\u001b[0m 880us/step - loss: 1.1074 - val_loss: 1.1059\n",
      "Epoch 96/100\n",
      "\u001b[1m6087/6087\u001b[0m \u001b[32m━━━━━━━━━━━━━━━━━━━━\u001b[0m\u001b[37m\u001b[0m \u001b[1m5s\u001b[0m 877us/step - loss: 1.1097 - val_loss: 1.1043\n",
      "Epoch 97/100\n",
      "\u001b[1m6087/6087\u001b[0m \u001b[32m━━━━━━━━━━━━━━━━━━━━\u001b[0m\u001b[37m\u001b[0m \u001b[1m5s\u001b[0m 890us/step - loss: 1.1064 - val_loss: 1.1045\n",
      "Epoch 98/100\n",
      "\u001b[1m6087/6087\u001b[0m \u001b[32m━━━━━━━━━━━━━━━━━━━━\u001b[0m\u001b[37m\u001b[0m \u001b[1m5s\u001b[0m 885us/step - loss: 1.1066 - val_loss: 1.1074\n",
      "Epoch 99/100\n",
      "\u001b[1m6087/6087\u001b[0m \u001b[32m━━━━━━━━━━━━━━━━━━━━\u001b[0m\u001b[37m\u001b[0m \u001b[1m5s\u001b[0m 882us/step - loss: 1.1058 - val_loss: 1.1041\n",
      "Epoch 100/100\n",
      "\u001b[1m6087/6087\u001b[0m \u001b[32m━━━━━━━━━━━━━━━━━━━━\u001b[0m\u001b[37m\u001b[0m \u001b[1m10s\u001b[0m 893us/step - loss: 1.1044 - val_loss: 1.1041\n"
     ]
    }
   ],
   "source": [
    "history = model.fit(\n",
    "    train_data['t'],\n",
    "    train_data['p'],\n",
    "    epochs=100,\n",
    "    validation_split=0.2\n",
    ")"
   ]
  },
  {
   "cell_type": "code",
   "execution_count": 17,
   "metadata": {},
   "outputs": [
    {
     "name": "stdout",
     "output_type": "stream",
     "text": [
      "\u001b[1m 168/2536\u001b[0m \u001b[32m━\u001b[0m\u001b[37m━━━━━━━━━━━━━━━━━━━\u001b[0m \u001b[1m1s\u001b[0m 601us/step"
     ]
    },
    {
     "name": "stdout",
     "output_type": "stream",
     "text": [
      "\u001b[1m2536/2536\u001b[0m \u001b[32m━━━━━━━━━━━━━━━━━━━━\u001b[0m\u001b[37m\u001b[0m \u001b[1m2s\u001b[0m 605us/step\n"
     ]
    }
   ],
   "source": [
    "prediction = model.predict(test_data['t'])"
   ]
  },
  {
   "cell_type": "code",
   "execution_count": 18,
   "metadata": {},
   "outputs": [
    {
     "name": "stdout",
     "output_type": "stream",
     "text": [
      "Mean Absolute Error (MAE): 1.10\n",
      "Root Mean Squarred Error (RMSE): 1.46\n",
      "R2 Score 0.45\n"
     ]
    }
   ],
   "source": [
    "from sklearn.metrics import mean_absolute_error, r2_score, root_mean_squared_error\n",
    "\n",
    "print(\"Mean Absolute Error (MAE): %.2f\" % mean_absolute_error(test_data[['p']], prediction))\n",
    "print(\"Root Mean Squarred Error (RMSE): %.2f\" % root_mean_squared_error(test_data[['p']], prediction))\n",
    "print(\"R2 Score %.2f\" % r2_score(test_data[['p']], prediction))"
   ]
  }
 ],
 "metadata": {
  "kernelspec": {
   "display_name": "Python 3",
   "language": "python",
   "name": "python3"
  },
  "language_info": {
   "codemirror_mode": {
    "name": "ipython",
    "version": 3
   },
   "file_extension": ".py",
   "mimetype": "text/x-python",
   "name": "python",
   "nbconvert_exporter": "python",
   "pygments_lexer": "ipython3",
   "version": "3.10.13"
  }
 },
 "nbformat": 4,
 "nbformat_minor": 2
}
